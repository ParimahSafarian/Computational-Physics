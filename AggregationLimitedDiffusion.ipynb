{
 "cells": [
  {
   "cell_type": "markdown",
   "metadata": {},
   "source": [
    "## HW04-06-Aggregation Limited Diffusion\n",
    "## Paimah Safarian 96109628"
   ]
  },
  {
   "cell_type": "code",
   "execution_count": 1,
   "metadata": {},
   "outputs": [],
   "source": [
    "import matplotlib\n",
    "import matplotlib.pyplot as plt\n",
    "import numpy as np\n",
    "import random\n",
    "import math"
   ]
  },
  {
   "cell_type": "code",
   "execution_count": 2,
   "metadata": {},
   "outputs": [],
   "source": [
    "#x is vertical cordinate!\n",
    "\n",
    "def one_particle_falls_down(latt, l):\n",
    "    x = x_0\n",
    "    y = random.randint(0, l)\n",
    "    \n",
    "    while latt[x-1, y] == 0 and latt[x, (y+1)%l] == 0 and latt[x, (y-1)%l] == 0:\n",
    "        rand = random.random()\n",
    "        if   rand <= 0.25:\n",
    "            x -= 1\n",
    "        elif rand <= 0.5 :\n",
    "            x += 1\n",
    "        elif rand <= 0.75:\n",
    "            y += 1\n",
    "        elif rand <= 1   :\n",
    "            y -= 1\n",
    "        \n",
    "        if x >= (x_max - 5):\n",
    "            #produce a new particle\n",
    "            x = x_0\n",
    "            y = random.randint(0, l)\n",
    "            \n",
    "        if   y < 0:\n",
    "            y += l\n",
    "        elif y > (l-1):\n",
    "            y -= l      \n",
    "\n",
    "    return x, y"
   ]
  },
  {
   "cell_type": "code",
   "execution_count": 4,
   "metadata": {},
   "outputs": [
    {
     "name": "stdout",
     "output_type": "stream",
     "text": [
      "[[1. 1. 1. ... 1. 1. 1.]\n",
      " [0. 0. 0. ... 0. 0. 0.]\n",
      " [0. 0. 0. ... 0. 0. 0.]\n",
      " ...\n",
      " [0. 0. 0. ... 0. 0. 0.]\n",
      " [0. 0. 0. ... 0. 0. 0.]\n",
      " [0. 0. 0. ... 0. 0. 0.]]\n",
      "Wall time: 3min 58s\n"
     ]
    }
   ],
   "source": [
    "%%time\n",
    "\n",
    "x_0   = 100\n",
    "x_max = 201\n",
    "\n",
    "l    = 200\n",
    "latt = np.zeros((l, x_max))\n",
    "latt[0, :] = [1]\n",
    "print(latt)\n",
    "\n",
    "#particles\n",
    "N    = 5000\n",
    "\n",
    "\n",
    "for n in range(N):\n",
    "    x, y = one_particle_falls_down(latt, l)\n",
    "    latt[x, y] = (int(n/10000) + 1)\n"
   ]
  },
  {
   "cell_type": "code",
   "execution_count": 5,
   "metadata": {},
   "outputs": [
    {
     "data": {
      "image/png": "[encoded data removed]",
      "text/plain": [
       "<Figure size 432x288 with 1 Axes>"
      ]
     },
     "metadata": {
      "needs_background": "light"
     },
     "output_type": "display_data"
    }
   ],
   "source": [
    "import matplotlib.cm as cm\n",
    "\n",
    "latt = latt / 10000\n",
    "\n",
    "fig , ax = plt.subplots()\n",
    "ax.imshow(latt ,cmap = cm.tab20)\n",
    "plt.title('DLA for {} number of particles' .format(N))\n",
    "plt.savefig(\"DLA.png\")"
   ]
  },
  {
   "cell_type": "markdown",
   "metadata": {},
   "source": [
    "This is the first try that didn't respond."
   ]
  },
  {
   "cell_type": "code",
   "execution_count": 2,
   "metadata": {},
   "outputs": [],
   "source": [
    "import sys\n",
    "\n",
    "sys.setrecursionlimit(100000)"
   ]
  },
  {
   "cell_type": "code",
   "execution_count": 3,
   "metadata": {},
   "outputs": [],
   "source": [
    "def sum_neighbours(latt, x, y, h, l):\n",
    "    sum_neigh = 0\n",
    "    if y == 0:\n",
    "        sum_neigh = 1\n",
    "    elif y == l-1:\n",
    "        sum_neigh = (latt[y, (x+1)%l] + latt[y-1, x] + latt[y, (x-1)%l])\n",
    "    else:\n",
    "        sum_neigh = (latt[y, (x+1)%l] + latt[y, (x-1)%l] + latt[y-1, x] + latt[y+1, x])\n",
    "    \n",
    "    return sum_neigh\n"
   ]
  },
  {
   "cell_type": "code",
   "execution_count": 4,
   "metadata": {},
   "outputs": [],
   "source": [
    "def new_particle(h, l):\n",
    "    x = random.randint(0, l)\n",
    "    y = h\n",
    "    return x, y\n"
   ]
  },
  {
   "cell_type": "code",
   "execution_count": 5,
   "metadata": {},
   "outputs": [],
   "source": [
    "def next_step(latt, x, y, h, l):\n",
    "    if y > (h + 49):\n",
    "        x, y = new_particle(h, l)\n",
    "    \n",
    "    rand = random.random()\n",
    "    if   rand <= 0.25:\n",
    "        x += 1\n",
    "        x = x%l\n",
    "    elif rand <= 0.5 :\n",
    "        x -= 1\n",
    "        x = x%l\n",
    "    elif rand <= 0.75:\n",
    "        y += 1\n",
    "    elif rand <= 1   :\n",
    "        y -= 1\n",
    "        if y == 0:\n",
    "            return latt\n",
    "        \n",
    "        \n",
    "    if sum_neighbours(latt, x, y, h, l) > 0:\n",
    "        latt[y, x] = 1\n",
    "        return latt\n",
    "    else:\n",
    "        next_step(latt, x, y, h, l)\n",
    "        "
   ]
  },
  {
   "cell_type": "code",
   "execution_count": null,
   "metadata": {},
   "outputs": [],
   "source": [
    "l = 200\n",
    "h = 5\n",
    "\n",
    "latt = np.zeros((l, l))\n",
    "latt[0, :] = [1]\n",
    "\n",
    "N = 200\n",
    "\n",
    "x, y = new_particle(h, l)\n",
    "next_step(latt, x, y, h, l)\n",
    "    \n",
    "\n",
    "for n in range(N):\n",
    "    x, y = new_particle(h, l)\n",
    "    next_step(latt, x, y, h, l)\n",
    "    \n",
    "print(latt)\n",
    "plt.imshow(latt)"
   ]
  }
 ],
 "metadata": {
  "kernelspec": {
   "display_name": "Python 3",
   "language": "python",
   "name": "python3"
  },
  "language_info": {
   "codemirror_mode": {
    "name": "ipython",
    "version": 3
   },
   "file_extension": ".py",
   "mimetype": "text/x-python",
   "name": "python",
   "nbconvert_exporter": "python",
   "pygments_lexer": "ipython3",
   "version": "3.7.6"
  }
 },
 "nbformat": 4,
 "nbformat_minor": 4
}
