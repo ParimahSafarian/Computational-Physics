{
  "nbformat": 4,
  "nbformat_minor": 0,
  "metadata": {
    "colab": {
      "name": "HW03-05-06.ipynb",
      "provenance": [],
      "collapsed_sections": [],
      "toc_visible": true
    },
    "kernelspec": {
      "name": "python3",
      "display_name": "Python 3"
    }
  },
  "cells": [
    {
      "cell_type": "markdown",
      "metadata": {
        "id": "Ysjs1rM7_x7f"
      },
      "source": [
        "## HW03\n",
        "## Paimah Safarian 96109628\n",
        "\n",
        "\n",
        "## 05- Tool Hambastegi"
      ]
    },
    {
      "cell_type": "code",
      "metadata": {
        "id": "MzIO7eyj_8cG"
      },
      "source": [
        "import matplotlib\n",
        "import matplotlib.pyplot as plt\n",
        "import numpy as np\n",
        "import math\n",
        "import random"
      ],
      "execution_count": null,
      "outputs": []
    },
    {
      "cell_type": "code",
      "metadata": {
        "id": "4Sk5WVG-LaN8"
      },
      "source": [
        "def light_up(grid, p, L):\n",
        "    random.random()\n",
        "    lights = 0\n",
        "    for i in range(0, L):\n",
        "        for j in range(0, L):\n",
        "            if j == 0:\n",
        "                grid[i][j] = 1\n",
        "                lights += 1\n",
        "            elif random.random() <= p:\n",
        "                grid[i][j] = 1\n",
        "                lights += 1\n",
        "            else:\n",
        "                grid[i][j] = 0 \n",
        "    return grid, lights"
      ],
      "execution_count": null,
      "outputs": []
    },
    {
      "cell_type": "code",
      "metadata": {
        "id": "Ej4LfUjCAfyv"
      },
      "source": [
        "#define a function which do the algorithm \n",
        "def HK(L, p):\n",
        "    grid = np.zeros((L, L))\n",
        "    grid, lights = light_up(grid, p, L)\n",
        "    \n",
        "    #خانه های مقدار گرفته را در خود ذخیره می کند\n",
        "    l = [0]\n",
        "    #the color of each cell\n",
        "    color = 1\n",
        "    #size of khooshe\n",
        "    s = [0]\n",
        "\n",
        "    #first j... because we want to explore from top to bottom and then left to right...\n",
        "    for j in range(0, L):\n",
        "        for i in range(0, L):\n",
        "            if grid[i, j] == 1:\n",
        "                if (i==0 and j==0) or (i==0 and grid[i, j-1]==0) or (j==0 and grid[i-1, j]==0) or (grid[i-1, j]==0 and grid[i, j-1]==0):\n",
        "                    grid[i, j] = color\n",
        "                    l.append(color)\n",
        "                    s.append(1)\n",
        "                    color += 1\n",
        "\n",
        "                elif i == 0 and grid[i, j-1] != 0:\n",
        "                    grid[i, j] = grid[i, j-1]\n",
        "                    s[l[int(grid[i, j-1])]] += 1\n",
        "\n",
        "                elif j == 0 and grid[i-1, j] != 0:\n",
        "                    grid[i, j] = grid[i-1, j]\n",
        "                    s[l[int(grid[i-1, j])]] +=1\n",
        "\n",
        "                elif grid[i, j-1]==0 and grid[i-1, j]!=0:\n",
        "                    grid[i, j] = grid[i-1, j]\n",
        "                    s[l[int(grid[i-1, j])]] += 1\n",
        "\n",
        "                elif grid[i, j-1] != 0 and grid[i-1, j]==0:\n",
        "                    grid[i, j] = grid[i, j-1]\n",
        "                    s[l[int(grid[i, j-1])]] += 1\n",
        "\n",
        "                else:\n",
        "                    grid[i, j] = grid[i, j-1]\n",
        "                    s[l[int(grid[i, j-1])]] += 1\n",
        "                    if l[int(grid[i-1, j])] != l[int(grid[i, j-1])]:\n",
        "                        s[l[int(grid[i, j-1])]] += s[l[int(grid[i-1, j])]]\n",
        "                        s[l[int(grid[i-1, j])]] = 0\n",
        "                    measure = l[int(grid[i-1, j])]\n",
        "                    for r in range(len(l)):\n",
        "                        if l[r] == measure:\n",
        "                            l[r] = l[int(grid[i, j-1])]\n",
        "\n",
        "\n",
        "    for j in range(0, L):\n",
        "        for i in range(0, L):\n",
        "            if grid[i, j] != 0:\n",
        "                index = int(grid[i, j])\n",
        "                grid[i, j] = l[index]\n",
        "\n",
        "\n",
        "    return grid, l, s\n"
      ],
      "execution_count": null,
      "outputs": []
    },
    {
      "cell_type": "code",
      "metadata": {
        "id": "rCB2HNOaJ6Ls",
        "outputId": "4850145d-b762-45bf-b2ad-b14dc8e02993",
        "colab": {
          "base_uri": "https://localhost:8080/"
        }
      },
      "source": [
        "grid, l, s = HK(10, 0.7)\n",
        "\n",
        "print(grid, l, s)\n",
        "\n",
        "s[l[int(grid[0, 0])]] -= 10\n",
        "\n",
        "print(s[l[int(grid[0, 0])]])\n",
        "Si = 0\n",
        "x = 0\n",
        "for i in range(10):\n",
        "  if grid[i, 9] == grid[0, 0]:\n",
        "    s[l[int(grid[0, 0])]] = 0\n",
        "    # for j in l:\n",
        "    #   if s[j] >= Si and l[j] != grid[i, 9]:\n",
        "    #     print(grid[i, 9])\n",
        "    #     Si = s[j]\n",
        "    #   x = 1\n",
        "    #   break\n",
        "Si = np.max(s)    \n",
        " \n",
        "print(Si)"
      ],
      "execution_count": null,
      "outputs": [
        {
          "output_type": "stream",
          "text": [
            "[[1. 1. 1. 1. 1. 1. 1. 1. 1. 1.]\n",
            " [1. 0. 1. 1. 1. 1. 1. 1. 1. 1.]\n",
            " [1. 0. 0. 1. 0. 0. 1. 0. 0. 0.]\n",
            " [1. 1. 1. 1. 1. 1. 0. 0. 0. 0.]\n",
            " [1. 1. 0. 1. 0. 1. 1. 0. 1. 1.]\n",
            " [1. 1. 1. 1. 0. 1. 1. 1. 1. 1.]\n",
            " [1. 0. 1. 0. 3. 0. 0. 0. 0. 0.]\n",
            " [1. 1. 0. 2. 0. 0. 0. 2. 0. 0.]\n",
            " [1. 1. 0. 2. 2. 2. 2. 2. 2. 2.]\n",
            " [1. 1. 0. 2. 2. 2. 2. 2. 2. 2.]] [0, 1, 2, 3, 2, 1] [0, 52, 16, 1, 0, 0]\n",
            "42\n",
            "16\n"
          ],
          "name": "stdout"
        }
      ]
    },
    {
      "cell_type": "markdown",
      "metadata": {
        "id": "yUcKkO8R0Zjh"
      },
      "source": [
        "## 05-Tool Hambastegi"
      ]
    },
    {
      "cell_type": "code",
      "metadata": {
        "id": "MQEMozYSllmu",
        "outputId": "0a632d5e-3352-4fa7-f523-a94403bfe6b0",
        "colab": {
          "base_uri": "https://localhost:8080/",
          "height": 1000
        }
      },
      "source": [
        "%%time\n",
        "\n",
        "color = ['indigo', 'deepskyblue', 'gold', 'orange', 'lightgreen']\n",
        "\n",
        "L = [10, 20, 40, 80, 160]\n",
        "# L = [10, 20]\n",
        "l_size = np.size(L)\n",
        "\n",
        "P = np.arange(0, 105, 5)\n",
        "p_size = np.size(P)\n",
        "\n",
        "Si = np.zeros(100)\n",
        "Si_l = np.zeros((l_size, p_size))\n",
        "\n",
        "for l in range(l_size):\n",
        "    for k in range(p_size):\n",
        "        Si_l[l, k] = 0\n",
        "        for m in range(100):\n",
        "            Si[m] = 0\n",
        "            Latt, ls, s = HK(L[l], P[k]/100)\n",
        "\n",
        "            s[ls[int(Latt[0, 0])]] -= L[l]\n",
        "\n",
        "            for i in range(L[l]):\n",
        "              if Latt[i, (L[l]-1)] in Latt[:, 0]:\n",
        "                s[ls[int(grid[0, 0])]] = 0\n",
        "                break        \n",
        "            Si[m] = np.max(s)    \n",
        " \n",
        "\n",
        "        Si_l[l, k] = np.mean(Si[:])\n",
        "\n",
        "    \n",
        "    F = plt.figure()\n",
        "    F = plt.plot(P/100, Si_l[l,:], '.', c = color[l])\n",
        "    plt.title(\"The largest cluster's size except infinite cluster for $L={}$\".format(L[l]))\n",
        "    plt.ylabel('Size of the cluster')\n",
        "    plt.xlabel('Probability of lightup')\n",
        "    plt.savefig('CSL{}.png'.format(L[l]))\n",
        "\n",
        "print(Si_l)\n",
        "plt.show()"
      ],
      "execution_count": null,
      "outputs": [
        {
          "output_type": "stream",
          "text": [
            "[[0.00000e+00 1.43000e+00 2.06000e+00 3.37000e+00 4.37000e+00 5.89000e+00\n",
            "  7.38000e+00 9.54000e+00 1.25400e+01 1.56400e+01 1.77100e+01 1.55300e+01\n",
            "  1.48100e+01 6.99000e+00 4.24000e+00 2.06000e+00 7.30000e-01 2.70000e-01\n",
            "  1.00000e-01 1.00000e-02 0.00000e+00]\n",
            " [0.00000e+00 2.16000e+00 3.48000e+00 5.52000e+00 7.14000e+00 1.00400e+01\n",
            "  1.32400e+01 1.85000e+01 2.44900e+01 3.98700e+01 5.67600e+01 7.47400e+01\n",
            "  5.47800e+01 2.85500e+01 1.33200e+01 2.92000e+00 1.07000e+00 2.20000e-01\n",
            "  3.00000e-02 0.00000e+00 0.00000e+00]\n",
            " [0.00000e+00 3.18000e+00 5.35000e+00 7.89000e+00 1.18700e+01 1.67300e+01\n",
            "  2.30900e+01 3.28600e+01 4.54400e+01 7.43100e+01 1.35710e+02 2.39060e+02\n",
            "  2.00180e+02 4.73200e+01 1.03700e+01 4.95000e+00 1.97000e+00 9.50000e-01\n",
            "  2.60000e-01 4.00000e-02 0.00000e+00]\n",
            " [0.00000e+00 4.89000e+00 9.55000e+00 1.51800e+01 2.20300e+01 3.11700e+01\n",
            "  4.29300e+01 5.97100e+01 8.74600e+01 1.40760e+02 2.67420e+02 6.67920e+02\n",
            "  8.59190e+02 6.37500e+01 1.65500e+01 7.12000e+00 3.49000e+00 1.58000e+00\n",
            "  6.50000e-01 6.00000e-02 0.00000e+00]\n",
            " [0.00000e+00 8.46000e+00 1.78800e+01 2.98700e+01 4.49500e+01 6.40700e+01\n",
            "  8.83600e+01 1.21060e+02 1.74660e+02 2.70890e+02 4.87350e+02 1.33753e+03\n",
            "  2.70762e+03 8.04300e+01 2.25400e+01 9.93000e+00 5.02000e+00 2.33000e+00\n",
            "  1.14000e+00 1.20000e-01 0.00000e+00]]\n"
          ],
          "name": "stdout"
        },
        {
          "output_type": "display_data",
          "data": {
            "image/png": "[encoded data removed]",
            "text/plain": [
              "<Figure size 432x288 with 1 Axes>"
            ]
          },
          "metadata": {
            "tags": [],
            "needs_background": "light"
          }
        },
        {
          "output_type": "display_data",
          "data": {
            "image/png": "[encoded data removed]",
            "text/plain": [
              "<Figure size 432x288 with 1 Axes>"
            ]
          },
          "metadata": {
            "tags": [],
            "needs_background": "light"
          }
        },
        {
          "output_type": "display_data",
          "data": {
            "image/png": "[encoded data removed]",
            "text/plain": [
              "<Figure size 432x288 with 1 Axes>"
            ]
          },
          "metadata": {
            "tags": [],
            "needs_background": "light"
          }
        },
        {
          "output_type": "display_data",
          "data": {
            "image/png": "[encoded data removed]",
            "text/plain": [
              "<Figure size 432x288 with 1 Axes>"
            ]
          },
          "metadata": {
            "tags": [],
            "needs_background": "light"
          }
        },
        {
          "output_type": "display_data",
          "data": {
            "image/png": "[encoded data removed]",
            "text/plain": [
              "<Figure size 432x288 with 1 Axes>"
            ]
          },
          "metadata": {
            "tags": [],
            "needs_background": "light"
          }
        },
        {
          "output_type": "stream",
          "text": [
            "CPU times: user 26min 47s, sys: 219 ms, total: 26min 47s\n",
            "Wall time: 26min 48s\n"
          ],
          "name": "stdout"
        }
      ]
    },
    {
      "cell_type": "markdown",
      "metadata": {
        "id": "3jTk-f89LHcu"
      },
      "source": [
        "## 06-Namaye Bohrani\n"
      ]
    },
    {
      "cell_type": "code",
      "metadata": {
        "id": "nxgxU9ilNSeN",
        "outputId": "e077399d-6b68-451b-d060-8c31118e6e25",
        "colab": {
          "base_uri": "https://localhost:8080/"
        }
      },
      "source": [
        "%%time\n",
        "\n",
        "# color = ['indigo', 'deepskyblue', 'gold', 'orange', 'lightgreen']\n",
        "\n",
        "L = [10, 20, 40, 80, 160]\n",
        "# L = [10, 20]\n",
        "l_size = np.size(L)\n",
        "\n",
        "P = np.arange(52, 60, 0.1)\n",
        "p_size = np.size(P)\n",
        "\n",
        "Si = np.zeros(100)\n",
        "Si_l = np.zeros((l_size, p_size))\n",
        "\n",
        "for l in range(l_size):\n",
        "    for k in range(p_size):\n",
        "        Si_l[l, k] = 0\n",
        "        for m in range(100):\n",
        "            Si[m] = 0\n",
        "            Latt, ls, s = HK(L[l], P[k]/100)\n",
        "\n",
        "            s[ls[int(Latt[0, 0])]] -= L[l]\n",
        "\n",
        "            for i in range(L[l]):\n",
        "              if Latt[i, (L[l]-1)] in Latt[:, 0]:\n",
        "                s[ls[int(grid[0, 0])]] = 0\n",
        "                break        \n",
        "            Si[m] = np.max(s)    \n",
        " \n",
        "\n",
        "        Si_l[l, k] = np.mean(Si[:])\n",
        "\n",
        " \n"
      ],
      "execution_count": 37,
      "outputs": [
        {
          "output_type": "stream",
          "text": [
            "CPU times: user 1h 15min 28s, sys: 510 ms, total: 1h 15min 29s\n",
            "Wall time: 1h 15min 33s\n"
          ],
          "name": "stdout"
        }
      ]
    },
    {
      "cell_type": "code",
      "metadata": {
        "id": "zA_grxjpK4aL",
        "outputId": "c527c591-ef9b-4706-e462-99feda87a7dc",
        "colab": {
          "base_uri": "https://localhost:8080/"
        }
      },
      "source": [
        "print(Si_l)"
      ],
      "execution_count": 38,
      "outputs": [
        {
          "output_type": "stream",
          "text": [
            "[[  17.8    16.05   15.98   15.44   16.48   17.41   16.92   18.45   17.9\n",
            "    17.74   17.57   19.88   18.07   18.65   16.59   17.7    17.44   17.78\n",
            "    16.29   15.32   17.79   18.84   16.34   17.81   17.89   17.5    15.56\n",
            "    15.67   15.     15.09   16.88   18.06   15.96   16.73   18.45   16.64\n",
            "    16.98   18.46   16.11   18.61   16.79   15.91   17.62   17.67   16.95\n",
            "    16.6    14.77   14.83   14.2    15.95   19.14   16.84   15.8    15.22\n",
            "    15.14   14.15   15.2    15.01   14.3    15.37   12.98   14.97   15.86\n",
            "    15.17   14.03   15.82   11.88   15.01   15.19   13.66   12.56   15.62\n",
            "    14.5    15.39   16.06   16.67   13.9    12.49   13.63   13.76]\n",
            " [  65.09   62.89   61.73   67.8    62.74   71.98   67.14   60.87   63.57\n",
            "    60.3    69.01   66.93   67.68   67.01   63.1    66.58   70.25   70.18\n",
            "    66.12   68.43   64.05   62.67   65.96   61.26   69.66   66.3    64.01\n",
            "    65.48   65.02   64.52   69.09   64.73   70.88   68.68   70.34   66.71\n",
            "    69.96   72.44   67.18   69.07   71.08   69.37   66.99   61.32   69.77\n",
            "    70.14   63.46   69.98   67.77   65.03   73.97   73.33   68.53   68.32\n",
            "    66.61   63.56   66.04   54.81   59.     66.37   64.37   61.95   62.85\n",
            "    62.72   62.96   76.4    59.66   65.72   61.65   64.02   67.94   55.27\n",
            "    52.65   71.72   63.68   60.98   64.08   64.63   52.16   58.2 ]\n",
            " [ 161.92  175.27  176.7   189.3   178.3   182.34  176.21  193.41  190.4\n",
            "   182.55  209.85  191.94  210.72  196.44  205.29  214.47  216.56  220.51\n",
            "   234.27  212.1   208.28  226.19  214.56  234.92  231.31  234.86  240.43\n",
            "   228.51  243.68  252.03  249.43  233.25  224.35  240.54  233.41  248.33\n",
            "   235.95  257.67  247.84  266.61  250.65  256.55  268.78  242.74  261.86\n",
            "   260.55  238.14  252.69  262.13  294.32  292.78  253.81  265.73  304.35\n",
            "   261.62  279.14  269.26  261.43  249.59  267.26  250.72  241.64  259.96\n",
            "   229.15  236.98  259.23  251.06  248.41  254.17  215.52  260.71  239.34\n",
            "   248.48  276.66  217.72  226.85  217.93  222.61  199.    202.65]\n",
            " [ 363.97  372.85  385.44  382.02  386.09  394.29  424.91  390.01  411.17\n",
            "   460.3   415.61  453.71  436.55  438.18  461.87  486.15  486.89  520.33\n",
            "   492.35  534.5   582.03  573.98  572.17  602.33  586.86  602.15  589.72\n",
            "   626.64  644.1   612.62  664.05  704.78  662.85  689.07  699.52  745.52\n",
            "   785.58  734.23  756.51  736.82  810.3   826.6   887.03  813.74  888.42\n",
            "   883.91  824.08  872.95  971.51  973.82  964.77  933.79  993.89  916.78\n",
            "  1004.37 1015.22  961.45 1019.68  960.63  997.55  987.22 1060.83 1053.49\n",
            "   995.79 1031.21  986.24  963.48 1044.17  932.26  907.27  835.55  910.26\n",
            "   902.37  863.52  940.29  859.21  878.05  850.2   854.3   776.87]\n",
            " [ 668.67  694.01  690.1   716.03  707.61  752.02  766.65  764.18  764.06\n",
            "   829.25  868.33  818.32  921.14  855.19  874.46  935.17  904.38 1002.35\n",
            "   967.68  995.11  996.19 1076.19 1085.8  1130.22 1184.23 1252.65 1201.99\n",
            "  1320.76 1364.71 1346.75 1349.74 1429.09 1431.84 1483.01 1482.34 1585.51\n",
            "  1626.64 1788.6  1853.9  1850.68 1812.93 2012.44 2115.45 2040.22 2178.05\n",
            "  2292.58 2406.46 2287.68 2580.27 2712.68 2606.41 2597.06 2762.34 2963.57\n",
            "  3240.04 3121.28 3195.85 3382.4  3595.54 3663.33 3512.68 3612.55 3669.08\n",
            "  3862.84 3613.6  3832.15 3813.1  3818.84 3488.99 4038.07 3529.84 3459.47\n",
            "  3745.44 3183.85 3694.59 3329.56 3214.17 2900.34 2838.67 2586.29]]\n"
          ],
          "name": "stdout"
        }
      ]
    },
    {
      "cell_type": "code",
      "metadata": {
        "id": "9vWESMlBLFuU"
      },
      "source": [
        "def maxyab(a):\n",
        "  for i in range(np.size(a)):\n",
        "    if a[i] == np.max(a):\n",
        "      return i , a[i]"
      ],
      "execution_count": 39,
      "outputs": []
    },
    {
      "cell_type": "code",
      "metadata": {
        "id": "ew6GT1gQMcDL",
        "outputId": "3fc56d31-10be-4b5f-807f-cf41a86c9dcc",
        "colab": {
          "base_uri": "https://localhost:8080/"
        }
      },
      "source": [
        "maxyab([1, 2, 3, 4, 10, 1])"
      ],
      "execution_count": 40,
      "outputs": [
        {
          "output_type": "execute_result",
          "data": {
            "text/plain": [
              "(4, 10)"
            ]
          },
          "metadata": {
            "tags": []
          },
          "execution_count": 40
        }
      ]
    },
    {
      "cell_type": "code",
      "metadata": {
        "id": "xjU97zx6LzFL",
        "outputId": "3d0568c2-f526-46c9-dc1c-2416d2a82936",
        "colab": {
          "base_uri": "https://localhost:8080/"
        }
      },
      "source": [
        "xi = []\n",
        "pi = []\n",
        "\n",
        "for l in range(l_size):\n",
        "  x, y = maxyab(Si_l[l, :])\n",
        "  xi = np.append(xi, y)\n",
        "  pi = np.append(pi, x)\n",
        "\n",
        "print(xi, pi)"
      ],
      "execution_count": 44,
      "outputs": [
        {
          "output_type": "stream",
          "text": [
            "[  19.88   76.4   304.35 1060.83 4038.07] [11. 65. 53. 61. 69.]\n"
          ],
          "name": "stdout"
        }
      ]
    },
    {
      "cell_type": "code",
      "metadata": {
        "id": "lLmiEM8ZrmTo",
        "outputId": "f4c3a8f0-10b6-4648-db9c-18fbed26391e",
        "colab": {
          "base_uri": "https://localhost:8080/"
        }
      },
      "source": [
        "dp = -(0.52 + pi * 0.001 - 0.5927)\n",
        "dp"
      ],
      "execution_count": 48,
      "outputs": [
        {
          "output_type": "execute_result",
          "data": {
            "text/plain": [
              "array([0.0617, 0.0077, 0.0197, 0.0117, 0.0037])"
            ]
          },
          "metadata": {
            "tags": []
          },
          "execution_count": 48
        }
      ]
    },
    {
      "cell_type": "code",
      "metadata": {
        "id": "kTlyB2oxMvyj",
        "outputId": "9be13cf9-5ce7-48b1-db99-b753b855cc1d",
        "colab": {
          "base_uri": "https://localhost:8080/"
        }
      },
      "source": [
        "mu = np.polyfit(np.log10(L), np.log10(dp), 1)\n",
        "nu = -1/mu[0]\n",
        "\n",
        "print('\\u03BD ={}'.format(nu))"
      ],
      "execution_count": 52,
      "outputs": [
        {
          "output_type": "stream",
          "text": [
            "ν =1.3305359350790402\n"
          ],
          "name": "stdout"
        }
      ]
    },
    {
      "cell_type": "code",
      "metadata": {
        "id": "hS0D_jEx5bpp",
        "outputId": "ad454626-6b91-4432-c65e-cb1bc4becaa5",
        "colab": {
          "base_uri": "https://localhost:8080/",
          "height": 283
        }
      },
      "source": [
        "plt.plot(np.log10(L), np.log10(dp), '.', c = 'indigo', label = 'data')\n",
        "plt.plot(np.log10(L), mu[0] * np.log10(L) + mu[1], c = 'gold', label ='$|p_c-p_c(\\infty)|\\propto L^{-1/1.3305}$')\n",
        "plt.legend()\n",
        "plt.xlabel('$log(L)$')\n",
        "plt.ylabel('$log(|p_c-p_c(\\infty)|)$')\n",
        "plt.savefig('nu.png')\n",
        "plt.show()"
      ],
      "execution_count": 64,
      "outputs": [
        {
          "output_type": "display_data",
          "data": {
            "image/png": "[encoded data removed]",
            "text/plain": [
              "<Figure size 432x288 with 1 Axes>"
            ]
          },
          "metadata": {
            "tags": [],
            "needs_background": "light"
          }
        }
      ]
    }
  ]
}