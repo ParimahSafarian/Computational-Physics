{
 "cells": [
  {
   "cell_type": "markdown",
   "metadata": {},
   "source": [
    "## HW03-02-RangAmizi\n",
    "## Paimah Safarian 96109628"
   ]
  },
  {
   "cell_type": "code",
   "execution_count": 48,
   "metadata": {},
   "outputs": [],
   "source": [
    "import matplotlib\n",
    "import matplotlib.pyplot as plt\n",
    "import numpy as np\n",
    "import math\n",
    "import random"
   ]
  },
  {
   "cell_type": "code",
   "execution_count": 86,
   "metadata": {},
   "outputs": [],
   "source": [
    "#finding nonzero-neighbours\n",
    "def find_neighbour(grid , i , j):    \n",
    "    L =  np.shape(grid)[0]\n",
    "    if i == 0 and j == 0:\n",
    "        neighbour0 = np.array([0])\n",
    "    elif i == 0:\n",
    "        neighbour0 = np.array([grid[i, j-1]])\n",
    "    elif j == 0:\n",
    "        neighbour0 = np.array([grid[i-1, j]])\n",
    "    else:\n",
    "        neighbour0 = np.array([ grid[i-1, j] , grid[i, j-1] ])\n",
    "        \n",
    "        \n",
    "    neighbour = np.array([])\n",
    "    for i in range(len(neighbour0)):\n",
    "        if neighbour0[i] != 0:\n",
    "            neighbour = np.append(neighbour , neighbour0[i])\n",
    "    return(neighbour)\n"
   ]
  },
  {
   "cell_type": "code",
   "execution_count": 87,
   "metadata": {},
   "outputs": [
    {
     "name": "stdout",
     "output_type": "stream",
     "text": [
      "Perculated!!\n",
      "Wall time: 7.98 ms\n"
     ]
    }
   ],
   "source": [
    "%%time\n",
    "\n",
    "\n",
    "#Latt definition\n",
    "L = 10\n",
    "Latt = np.zeros((L, L))\n",
    "\n",
    "\n",
    "p = 0.5\n",
    "color = 2\n",
    "\n",
    "\n",
    "#initial values\n",
    "int_max = 1000\n",
    "\n",
    "\n",
    "#Up side\n",
    "for i in range(L):\n",
    "    Latt[0, i] = 1\n",
    "\n",
    "\n",
    "\n",
    "for i in range(L):\n",
    "    for j in range(L):\n",
    "        r = random.random()\n",
    "        if r < p:\n",
    "            Latt[i, j] = color\n",
    "            color += 1\n",
    "            neighbours = find_neighbour(Latt, i, j)\n",
    "            l_n = len(neighbours)\n",
    "            \n",
    "            if l_n == 0:\n",
    "                continue\n",
    "            elif l_n == 1:\n",
    "                Latt[i, j] = neighbours\n",
    "            else:\n",
    "                color_min = min(neighbours)\n",
    "                Latt[i, j] = color_min \n",
    "                for k in range(L):\n",
    "                    for l in range(L):\n",
    "                        if Latt[k, l] in neighbours:\n",
    "                            Latt[k, l] = color_min\n",
    "     \n",
    "\n",
    "        \n",
    "x = 0\n",
    "for i in range(L):\n",
    "    if Latt[i, (L-1)] == 1:\n",
    "        print('Perculated!!')\n",
    "        x = 1\n",
    "        break\n",
    "if x == 0:\n",
    "    print('Not Perculated...')\n",
    "\n",
    " "
   ]
  },
  {
   "cell_type": "code",
   "execution_count": 88,
   "metadata": {
    "scrolled": true
   },
   "outputs": [
    {
     "data": {
      "image/png": "[encoded data removed]",
      "text/plain": [
       "<Figure size 432x288 with 1 Axes>"
      ]
     },
     "metadata": {
      "needs_background": "light"
     },
     "output_type": "display_data"
    }
   ],
   "source": [
    "#plot   \n",
    "for i in range(L):\n",
    "    for j in range(L):\n",
    "        if Latt[i][j] == 0:\n",
    "            Latt[i][j] = L ** 2\n",
    "            \n",
    "title = 'L = {} and p = {}'.format(L, p)\n",
    "plt.imshow(Latt)\n",
    "plt.title(title)\n",
    "plt.savefig('{}.png'.format(title))"
   ]
  },
  {
   "cell_type": "code",
   "execution_count": 89,
   "metadata": {},
   "outputs": [],
   "source": [
    "def Coloring(L, p):\n",
    "    Latt = np.zeros((L, L))\n",
    "\n",
    "    color = 2\n",
    "\n",
    "\n",
    "    #initial values\n",
    "\n",
    "    #Up side\n",
    "    for i in range(L):\n",
    "        Latt[0, i] = 1\n",
    "\n",
    "\n",
    "    for i in range(L):\n",
    "        for j in range(L):\n",
    "            r = random.random()\n",
    "            if r < p:\n",
    "                Latt[i, j] = color\n",
    "                color += 1\n",
    "                neighbours = find_neighbour(Latt, i, j)\n",
    "                l_n = len(neighbours)\n",
    "\n",
    "                if l_n == 0:\n",
    "                    continue\n",
    "                elif l_n == 1:\n",
    "                    Latt[i, j] = neighbours\n",
    "                else:\n",
    "                    color_min = min(neighbours)\n",
    "                    Latt[i, j] = color_min \n",
    "                    for k in range(L):\n",
    "                        for l in range(L):\n",
    "                            if Latt[k, l] in neighbours:\n",
    "                                Latt[k, l] = color_min\n",
    "    return Latt"
   ]
  },
  {
   "cell_type": "code",
   "execution_count": 95,
   "metadata": {},
   "outputs": [
    {
     "name": "stdout",
     "output_type": "stream",
     "text": [
      "Wall time: 45.9 s\n"
     ]
    },
    {
     "data": {
      "image/png": "[encoded data removed]",
      "text/plain": [
       "<Figure size 432x288 with 1 Axes>"
      ]
     },
     "metadata": {
      "needs_background": "light"
     },
     "output_type": "display_data"
    }
   ],
   "source": [
    "%%time\n",
    "\n",
    "L = 50\n",
    "p = 1\n",
    "Latt = Coloring(L, p)\n",
    "\n",
    "#plot   \n",
    "for i in range(L):\n",
    "    for j in range(L):\n",
    "        if Latt[i][j] == 0:\n",
    "            Latt[i][j] = L ** 2\n",
    "            \n",
    "title = 'L = {} and p = {}'.format(L, p)\n",
    "plt.imshow(Latt)\n",
    "plt.title(title)\n",
    "plt.savefig('{}.png'.format(title))"
   ]
  },
  {
   "cell_type": "code",
   "execution_count": 96,
   "metadata": {},
   "outputs": [
    {
     "name": "stdout",
     "output_type": "stream",
     "text": [
      "Wall time: 22.3 s\n"
     ]
    },
    {
     "data": {
      "image/png": "[encoded data removed]",
      "text/plain": [
       "<Figure size 432x288 with 1 Axes>"
      ]
     },
     "metadata": {
      "needs_background": "light"
     },
     "output_type": "display_data"
    }
   ],
   "source": [
    "%%time\n",
    "\n",
    "L = 50\n",
    "p = 0.8\n",
    "Latt = Coloring(L, p)\n",
    "\n",
    "#plot   \n",
    "for i in range(L):\n",
    "    for j in range(L):\n",
    "        if Latt[i][j] == 0:\n",
    "            Latt[i][j] = L ** 2\n",
    "            \n",
    "title = 'L = {} and p = {}'.format(L, p)\n",
    "plt.imshow(Latt)\n",
    "plt.title(title)\n",
    "plt.savefig('{}.png'.format(title))"
   ]
  }
 ],
 "metadata": {
  "kernelspec": {
   "display_name": "Python 3",
   "language": "python",
   "name": "python3"
  },
  "language_info": {
   "codemirror_mode": {
    "name": "ipython",
    "version": 3
   },
   "file_extension": ".py",
   "mimetype": "text/x-python",
   "name": "python",
   "nbconvert_exporter": "python",
   "pygments_lexer": "ipython3",
   "version": "3.7.6"
  }
 },
 "nbformat": 4,
 "nbformat_minor": 4
}
