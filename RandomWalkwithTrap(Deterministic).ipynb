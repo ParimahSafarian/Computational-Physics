{
 "cells": [
  {
   "cell_type": "markdown",
   "metadata": {},
   "source": [
    "## HW04-04-Random Walk with Trap (Deterministic)\n",
    "## Paimah Safarian 96109628"
   ]
  },
  {
   "cell_type": "code",
   "execution_count": 1,
   "metadata": {},
   "outputs": [],
   "source": [
    "import matplotlib\n",
    "import matplotlib.pyplot as plt\n",
    "import numpy as np\n",
    "import random\n",
    "import math"
   ]
  },
  {
   "cell_type": "code",
   "execution_count": 2,
   "metadata": {},
   "outputs": [],
   "source": [
    "def prob_latt(time, l, x_0, p):\n",
    "    latt = np.zeros((time, l))\n",
    "    latt[0, x_0] = 1\n",
    "    q = 1 - p\n",
    "    for t in range(time-1):\n",
    "        for i in range(l):\n",
    "            if latt[t, i] != 0:\n",
    "                if i == 0:\n",
    "                    latt[t+1, i+1] += latt[t, i] * p\n",
    "                elif i == l-1:\n",
    "                    latt[t+1, i-1] += latt[t, i] * q\n",
    "                else:\n",
    "                    latt[t+1, i+1] += latt[t, i] * p\n",
    "                    latt[t+1, i-1] += latt[t, i] * q\n",
    "    return latt"
   ]
  },
  {
   "cell_type": "code",
   "execution_count": 39,
   "metadata": {},
   "outputs": [],
   "source": [
    "def lifetime(latt, time, p, l):\n",
    "    mean_lifetime = 0\n",
    "    q = 1 - p\n",
    "    for t in range(time):\n",
    "        mean_lifetime += (t+1) * (latt[t, 0] * q + latt[t, (l-1)] * p)\n",
    "    return mean_lifetime"
   ]
  },
  {
   "cell_type": "code",
   "execution_count": 49,
   "metadata": {},
   "outputs": [
    {
     "name": "stdout",
     "output_type": "stream",
     "text": [
      "20.99280555147345\n"
     ]
    }
   ],
   "source": [
    "latt = prob_latt(1000, 21, 20, 0.5)\n",
    "print(lifetime(latt, 1000, 0.5, 21))"
   ]
  },
  {
   "cell_type": "code",
   "execution_count": 59,
   "metadata": {},
   "outputs": [
    {
     "data": {
      "image/png": "[encoded data removed]",
      "text/plain": [
       "<Figure size 432x288 with 1 Axes>"
      ]
     },
     "metadata": {
      "needs_background": "light"
     },
     "output_type": "display_data"
    }
   ],
   "source": [
    "x = 10\n",
    "initial_x = np.arange(-x, x+1, 1)\n",
    "time = 1000\n",
    "l = np.size(initial_x)\n",
    "p = 0.5\n",
    "lifetimes = np.zeros(l)\n",
    "\n",
    "\n",
    "for i in range(l):\n",
    "    latt = prob_latt(time, l, i, p)\n",
    "    lifetimes[i] = lifetime(latt, time, p, l)\n",
    "\n",
    "\n",
    "plt.plot(initial_x, lifetimes, '.', c = 'indigo')\n",
    "plt.plot(initial_x, lifetimes, c = 'mediumslateblue', dashes=[10,5] , linewidth = 0.3)\n",
    "\n",
    "plt.title(' Meanlifetime for 1D random walk with different boundaries versus initial position\\n using deterministic method')\n",
    "plt.ylabel('Lifetime')\n",
    "plt.xlabel('Initial position')\n",
    "\n",
    "plt.savefig('det_lifetime.png')"
   ]
  },
  {
   "cell_type": "markdown",
   "metadata": {},
   "source": [
    "Here I'm going to use a minimal code to compare runtime with the previous algorithm"
   ]
  },
  {
   "cell_type": "code",
   "execution_count": 61,
   "metadata": {},
   "outputs": [
    {
     "name": "stdout",
     "output_type": "stream",
     "text": [
      "[ 20.99280555  39.98588969  56.97899951  71.97292251  84.9668948\n",
      "  95.96214898 104.95747207 111.95444193 116.95149471 119.95042571\n",
      " 120.94944695 119.95042571 116.95149471 111.95444193 104.95747207\n",
      "  95.96214898  84.9668948   71.97292251  56.97899951  39.98588969\n",
      "  20.99280555]\n",
      "Wall time: 1.77 s\n"
     ]
    }
   ],
   "source": [
    "%%time\n",
    "\n",
    "trap = 10\n",
    "initial_x = np.arange(-trap, trap+1, 1)\n",
    "time = 1000\n",
    "l = np.size(initial_x)\n",
    "p = 0.5\n",
    "lifetimes = np.zeros(l)\n",
    "\n",
    "\n",
    "for i in range(l):\n",
    "    latt = prob_latt(time, l, i, p)\n",
    "    lifetimes[i] = lifetime(latt, time, p, l)\n",
    "\n",
    "print(lifetimes)"
   ]
  }
 ],
 "metadata": {
  "kernelspec": {
   "display_name": "Python 3",
   "language": "python",
   "name": "python3"
  },
  "language_info": {
   "codemirror_mode": {
    "name": "ipython",
    "version": 3
   },
   "file_extension": ".py",
   "mimetype": "text/x-python",
   "name": "python",
   "nbconvert_exporter": "python",
   "pygments_lexer": "ipython3",
   "version": "3.7.6"
  }
 },
 "nbformat": 4,
 "nbformat_minor": 4
}
