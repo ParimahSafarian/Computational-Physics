{
 "cells": [
  {
   "cell_type": "markdown",
   "metadata": {
    "id": "Ysjs1rM7_x7f"
   },
   "source": [
    "## HW03\n",
    "## Paimah Safarian 96109628\n",
    "\n",
    "\n",
    "## 07- Bood Jermi"
   ]
  },
  {
   "cell_type": "code",
   "execution_count": 10,
   "metadata": {
    "id": "MzIO7eyj_8cG"
   },
   "outputs": [],
   "source": [
    "import matplotlib\n",
    "import matplotlib.pyplot as plt\n",
    "import numpy as np\n",
    "import math\n",
    "import random"
   ]
  },
  {
   "cell_type": "code",
   "execution_count": 11,
   "metadata": {
    "id": "D6UO2u4xiR2w"
   },
   "outputs": [],
   "source": [
    "# 0 means not has been checked ever\n",
    "# 1 means it has been lighted up recently\n",
    "# 2 means it is blocked\n",
    "# 3 means it has been already checked\n",
    "\n",
    "def light_up(grid, lights, p, i, j):\n",
    "    if grid[i-1, j, 0] == 0:\n",
    "        if random.random() <= p:\n",
    "            grid[i-1, j, 1] = 1\n",
    "            lights += 1\n",
    "        else:\n",
    "            grid[i-1, j, 1] = 2\n",
    "    if grid[i+1, j, 0] == 0:\n",
    "        if random.random() <= p:\n",
    "            grid[i+1, j, 1] = 1\n",
    "            lights += 1\n",
    "        else:\n",
    "            grid[i+1, j, 1] = 2\n",
    "    if grid[i, j-1, 0] == 0:\n",
    "        if random.random() <= p:\n",
    "            grid[i, j-1, 1] = 1\n",
    "            lights += 1\n",
    "        else:\n",
    "            grid[i, j-1, 1] = 2\n",
    "    if grid[i, j+1, 0] == 0:\n",
    "        if random.random() <= p:\n",
    "            grid[i, j+1, 1] = 1\n",
    "            lights += 1\n",
    "        else:\n",
    "            grid[i, j+1, 1] = 2\n",
    "    grid[i, j, 1] = 1\n",
    "    return grid, lights\n"
   ]
  },
  {
   "cell_type": "code",
   "execution_count": null,
   "metadata": {
    "id": "dXTg6sbHiXSk"
   },
   "outputs": [],
   "source": [
    "%%time\n",
    "\n",
    "P = [0.5, 0.55, 0.59]\n",
    "M = 1\n",
    "# P = [0.5]\n",
    "# M = 1\n",
    "\n",
    "\n",
    "xi = np.zeros(M)\n",
    "s  = np.zeros(M)\n",
    "xi_p = np.zeros(np.size(P))\n",
    "s_p  = np.zeros(np.size(P))\n",
    "for k in range(np.size(P)):\n",
    "    p = P[k]\n",
    "    for m in range(M):\n",
    "        L = 10000\n",
    "        Latt = np.zeros((L, L, 2))\n",
    "        Latt[int(L/2), int(L/2), 0] = 1\n",
    "        lights = 1\n",
    "        exlights = 0\n",
    "\n",
    "        while(exlights != lights):\n",
    "            exlights = lights\n",
    "            for i in range(L):\n",
    "                for j in range(L):\n",
    "                    if Latt[i, j, 0] == 1:\n",
    "                        Latt, lights = light_up(Latt, lights, p, i, j)\n",
    "\n",
    "            Latt[:, :, 0] = Latt[:, :, 1]\n",
    "\n",
    "\n",
    "        X, Y = np.argwhere(Latt[:, :, 0]==1).T\n",
    "        xi[m] = np.sqrt(np.std(X) ** 2 + np.std(Y) ** 2)\n",
    "        s[m]  = np.size(np.argwhere(Latt[:, :, 0]==1)/2)\n",
    "    xi_p[k] = np.mean(xi)\n",
    "    s_p[k]  = np.mean(s)\n",
    "\n",
    "# plt.plot(np.log10(xi), np.log10(s), '.', c = 'indigo')\n",
    "# plt.savefig('bood.png')"
   ]
  },
  {
   "cell_type": "code",
   "execution_count": null,
   "metadata": {
    "id": "xKxAmI03uKlR"
   },
   "outputs": [],
   "source": [
    "plt.plot(np.log10(xi_p), np.log10(s_p), '.', c = 'indigo')\n",
    "plt.savefig('boodJermi.png')"
   ]
  },
  {
   "cell_type": "code",
   "execution_count": null,
   "metadata": {
    "id": "CZ17fXKcturB"
   },
   "outputs": [],
   "source": [
    "mu = np.polyfit(np.log10(xi_p), np.log10(s_p), 1)\n",
    "mu"
   ]
  },
  {
   "cell_type": "code",
   "execution_count": null,
   "metadata": {
    "id": "jZKSrn4ouUnq"
   },
   "outputs": [],
   "source": [
    "plt.plot(np.log10(xi_p), np.log10(s_p), '.', c = 'indigo', label = 'data')\n",
    "plt.plot(np.log10(xi_p), mu[0] * np.log10(s_p) + mu[1], '.', c = 'gold', label = 'fit')\n",
    "plt.title(\"size of the cluster versus gyration radius\")\n",
    "plt.xlabel('$log(\\u03BE)$')\n",
    "plt.ylabel('$log(size)')\n",
    "plt.savefig('bood.png')"
   ]
  }
 ],
 "metadata": {
  "colab": {
   "collapsed_sections": [],
   "name": "HW03-07.ipynb",
   "provenance": []
  },
  "kernelspec": {
   "display_name": "Python 3",
   "language": "python",
   "name": "python3"
  },
  "language_info": {
   "codemirror_mode": {
    "name": "ipython",
    "version": 3
   },
   "file_extension": ".py",
   "mimetype": "text/x-python",
   "name": "python",
   "nbconvert_exporter": "python",
   "pygments_lexer": "ipython3",
   "version": "3.7.6"
  }
 },
 "nbformat": 4,
 "nbformat_minor": 1
}
